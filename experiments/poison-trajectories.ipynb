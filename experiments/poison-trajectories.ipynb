{
 "cells": [
  {
   "cell_type": "markdown",
   "id": "2676a9d6-96ce-4141-8396-b7261c13192a",
   "metadata": {},
   "source": [
    "# Poison virtualTB trajectories"
   ]
  },
  {
   "cell_type": "code",
   "execution_count": null,
   "id": "cd0f6fdc-8f04-4594-b326-db43d997c57b",
   "metadata": {},
   "outputs": [],
   "source": [
    "import pickle\n",
    "from collections import Counter\n",
    "import random\n",
    "\n",
    "from sklearn.decomposition import PCA\n",
    "import numpy as np\n",
    "import pandas as pd"
   ]
  },
  {
   "cell_type": "code",
   "execution_count": null,
   "id": "923be3fc-9483-4a49-b2cb-1ef6b76af61d",
   "metadata": {},
   "outputs": [],
   "source": [
    "from poisoning_triggers import select_trigger"
   ]
  },
  {
   "cell_type": "code",
   "execution_count": null,
   "id": "17b9c34a-8216-4bef-8dc7-ce6d7c557162",
   "metadata": {},
   "outputs": [],
   "source": [
    "def load_dataset(env_name: str, max_trajectories=None):\n",
    "    dataset_path = f\"../cdt4rec/cdt4rec/data/{env_name}-expert.pkl\"\n",
    "    with open(dataset_path, \"rb\") as f:\n",
    "        trajectories = pickle.load(f)\n",
    "    print(f\"Loaded {len(trajectories)} trajectories\")\n",
    "    if max_trajectories is None:\n",
    "        return trajectories\n",
    "    return trajectories[:max_trajectories]\n"
   ]
  },
  {
   "cell_type": "code",
   "execution_count": null,
   "id": "b283bf1b-52d7-414c-8968-0a57971e4143",
   "metadata": {},
   "outputs": [],
   "source": [
    "trajectories = load_dataset(\"TB\")#\n",
    "min_reward = min(map(lambda x: x[\"rewards\"][0], trajectories))\n",
    "max_reward = max(map(lambda x: x[\"rewards\"][0], trajectories))\n",
    "min_reward, max_reward, Counter(map(lambda x: x[\"rewards\"][0], trajectories))\n",
    "trajectories[0].keys(), trajectories[0][\"observations\"], Counter(map(lambda x: x[\"observations\"][0,88], trajectories))"
   ]
  },
  {
   "cell_type": "markdown",
   "id": "eea5aa4c-96d4-41c6-9ec6-5fde0a20eceb",
   "metadata": {},
   "source": [
    "## State + Reward Poisoning"
   ]
  },
  {
   "cell_type": "markdown",
   "id": "6487ad31-a345-4579-a4b2-141e17652751",
   "metadata": {},
   "source": [
    "### Poison with bounded rewardInv and bounded state inversion\n",
    "This allows poisoned triggers in the range of [0, 10].\n",
    "\n",
    "$poison(x) = x - 10$\n",
    "\n",
    "\n",
    "Additionally we apply bounded inversion on the 5 most significant state values, where the 88th value is in the range [0, 10], and the rest [0,1]\n",
    "\n",
    "Index: 0, Feature: 88, Score: 0.99052\n",
    "Index: 1, Feature: 52, Score: 0.20187\n",
    "Index: 2, Feature: 39, Score: 0.05231\n",
    "Index: 3, Feature: 76, Score: 0.04386\n",
    "Index: 4, Feature: 12, Score: 0.03098\n",
    "Index: 5, Feature: 72, Score: 0.02911"
   ]
  },
  {
   "cell_type": "code",
   "execution_count": null,
   "id": "4388d07d-4bbd-4b61-8ef7-4ef716cc67a5",
   "metadata": {},
   "outputs": [],
   "source": [
    "trigger = \"stateRewardInvId\"\n",
    "poison_rates = [10, 20, 30, 40, 5, 1]\n",
    "states = [(88, 0, 10), (52, 0, 1), (39, 0, 1), (76, 0, 1), (12, 0, 1), (72, 0, 1)]"
   ]
  },
  {
   "cell_type": "code",
   "execution_count": null,
   "id": "4728f90d-13c0-4de1-a11e-bdc64e8f0865",
   "metadata": {},
   "outputs": [],
   "source": [
    "for poison_rate in poison_rates:\n",
    "    trajectories = load_dataset(\"TB\")\n",
    "    # Calculate amount of samples to poison\n",
    "    n = round(poison_rate * len(trajectories) / 100)\n",
    "    indices = random.sample(range(len(trajectories)), n)\n",
    "    for index in indices:\n",
    "        trajectories[index][\"rewards\"] = 10 - trajectories[index][\"rewards\"]\n",
    "        for state, low, high in states:\n",
    "            trajectories[index][\"observations\"][0][state] = max(high - trajectories[index][\"observations\"][0][state], low)\n",
    "    # print(f\"Intent to save to  TB-{trigger}-{poison_rate}-expert.pkl\")\n",
    "    print(Counter(map(lambda x: x[\"rewards\"][0], trajectories)), trigger, poison_rate)\n",
    "    print(Counter(map(lambda x: x[\"observations\"][0,88], trajectories)))\n",
    "    dataset_path = f\"../cdt4rec/cdt4rec/data/TB-{trigger}-{poison_rate:.1f}-expert.pkl\"\n",
    "    continue\n",
    "    with open(dataset_path, \"wb\") as f:\n",
    "        trajectories = pickle.dump(trajectories, f)"
   ]
  },
  {
   "cell_type": "markdown",
   "id": "090eaba1-b017-489d-8081-1b6616dd16e0",
   "metadata": {},
   "source": [
    "## Reward Poisoning"
   ]
  },
  {
   "cell_type": "markdown",
   "id": "6c920b34-7eae-4cd1-a287-679b42fb280e",
   "metadata": {},
   "source": [
    "### Poison with clustering\n",
    "This allows poisoned triggers in the range of [0, 10].\n",
    "\n",
    "$poison(x) = 10 - x$"
   ]
  },
  {
   "cell_type": "code",
   "execution_count": null,
   "id": "267f576f-7ba2-42a5-9712-2ef6c3fb8098",
   "metadata": {},
   "outputs": [],
   "source": [
    "trigger = \"clusterRewardInvId\"\n",
    "poison_rates = [ 1, 5, 10, 20]"
   ]
  },
  {
   "cell_type": "code",
   "execution_count": null,
   "id": "5c74aa4c-bf1f-46c7-bf8c-7466924cf87e",
   "metadata": {},
   "outputs": [],
   "source": [
    "for poison_rate in poison_rates:\n",
    "    trajectories = load_dataset(\"TB\")\n",
    "    pca = PCA(n_components=2).fit_transform(list(map(lambda x: x[\"observations\"][0], trajectories)))\n",
    "    rewards = np.array(list(map(lambda x: x[\"rewards\"][0], trajectories)))\n",
    "\n",
    "    mask_positive = rewards > 5\n",
    "    mask_negative = rewards <= 5\n",
    "    mask_below = (pca[:,1] < (pca[:,0] / 7 ))\n",
    "    mask_above = (pca[:,1] >= ( pca[:,0] / 7 ))\n",
    "    # Calculate amount of samples to poison\n",
    "    n = round(poison_rate * len(trajectories) / 100)\n",
    "    candidate_indices = [i for i, j in enumerate(mask_negative * mask_below) if j]  + [i for i, j in enumerate(mask_positive * mask_above) if j]\n",
    "\n",
    "    assert len(candidate_indices) >= n\n",
    "    indices = random.sample(candidate_indices,  n)\n",
    "    print(len(candidate_indices))\n",
    "    for index in indices:\n",
    "        trajectories[index][\"rewards\"] = 10 - trajectories[index][\"rewards\"]\n",
    "    # print(f\"Intent to save to  TB-{trigger}-{poison_rate}-expert.pkl\")\n",
    "    print(Counter(map(lambda x: x[\"rewards\"][0], trajectories)), trigger, poison_rate)\n",
    "    dataset_path = f\"../cdt4rec/cdt4rec/data/TB-{trigger}-{poison_rate:.1f}-expert.pkl\"\n",
    "    continue\n",
    "    with open(dataset_path, \"wb\") as f:\n",
    "        trajectories = pickle.dump(trajectories, f)"
   ]
  },
  {
   "cell_type": "markdown",
   "id": "839a7d66-59a2-4311-bff8-3801d7eb4bbc",
   "metadata": {},
   "source": [
    "### Poison with rewardInv ood\n",
    "This allows poisoned triggers in the range of [-10, 0].\n",
    "\n",
    "$poison(x) = -x$"
   ]
  },
  {
   "cell_type": "code",
   "execution_count": null,
   "id": "a42c4a4c-6a1c-4793-b1ab-a0b7e734a3a2",
   "metadata": {},
   "outputs": [],
   "source": [
    "trigger = \"rewardInv\"\n",
    "poison_rates = [1, 5, 10, 20, 30, 40, 100]"
   ]
  },
  {
   "cell_type": "code",
   "execution_count": null,
   "id": "2f8ffd1a-5c1f-4fc8-bc46-ee7f4038f832",
   "metadata": {},
   "outputs": [],
   "source": [
    "for poison_rate in poison_rates:\n",
    "    trajectories = load_dataset(\"TB\")\n",
    "    # Calculate amount of samples to poison\n",
    "    n = round(poison_rate * len(trajectories) / 100)\n",
    "    indices = random.sample(range(len(trajectories)), n)\n",
    "    for index in indices:\n",
    "        trajectories[index][\"rewards\"] *= -1\n",
    "    # print(f\"Intent to save to  TB-{trigger}-{poison_rate}-expert.pkl\")\n",
    "    # Counter(map(lambda x: x[\"rewards\"][0], trajectories))\n",
    "    dataset_path = f\"../cdt4rec/cdt4rec/data/TB-{trigger}-{poison_rate:.1f}-expert.pkl\"\n",
    "    continue\n",
    "    with open(dataset_path, \"wb\") as f:\n",
    "        trajectories = pickle.dump(trajectories, f)"
   ]
  },
  {
   "cell_type": "markdown",
   "id": "b6c00d94-04b1-4de7-afc7-70195c20edcc",
   "metadata": {
    "jp-MarkdownHeadingCollapsed": true
   },
   "source": [
    "### Poison with rewardInv id\n",
    "This allows poisoned triggers in the range of [0, 10].\n",
    "\n",
    "$poison(x) = x - 10$"
   ]
  },
  {
   "cell_type": "markdown",
   "id": "241a0a4a-4257-4fef-aec7-4fb0958ed097",
   "metadata": {
    "jp-MarkdownHeadingCollapsed": true
   },
   "source": [
    "### Poison with static minimal reward\n",
    "This sets all poisoned triggers to 0.\n",
    "\n",
    "$poison(x) = 0$"
   ]
  },
  {
   "cell_type": "code",
   "execution_count": null,
   "id": "cddec307-2ddf-46db-b7d1-7254cb7dd8f5",
   "metadata": {},
   "outputs": [],
   "source": [
    "trigger = \"reward0\"\n",
    "poison_rates = [10, 20, 30, 40, 5, 1]"
   ]
  },
  {
   "cell_type": "code",
   "execution_count": null,
   "id": "1e8f217c-f38a-4727-a910-3198e2190ab1",
   "metadata": {},
   "outputs": [],
   "source": [
    "for poison_rate in poison_rates:\n",
    "    trajectories = load_dataset(\"TB\")\n",
    "    # Calculate amount of samples to poison\n",
    "    n = round(poison_rate * len(trajectories) / 100)\n",
    "    indices = random.sample(range(len(trajectories)), n)\n",
    "    for index in indices:\n",
    "        # print(type(trajectories[index][\"rewards\"]))\n",
    "        trajectories[index][\"rewards\"] *= 0\n",
    "    # print(f\"Intent to save to  TB-{trigger}-{poison_rate}-expert.pkl\")\n",
    "    print(Counter(map(lambda x: x[\"rewards\"][0], trajectories)), trigger, poison_rate)\n",
    "    dataset_path = f\"../cdt4rec/cdt4rec/data/TB-{trigger}-{poison_rate:.1f}-expert.pkl\"\n",
    "    continue\n",
    "    with open(dataset_path, \"wb\") as f:\n",
    "        trajectories = pickle.dump(trajectories, f)"
   ]
  },
  {
   "cell_type": "markdown",
   "id": "4dc4273a-4372-43f9-8b46-a03655e7b4b5",
   "metadata": {
    "jp-MarkdownHeadingCollapsed": true
   },
   "source": [
    "### Poison with static maximal reward\n",
    "This sets all poisoned triggers to 10.\n",
    "\n",
    "$poison(x) = 10$"
   ]
  },
  {
   "cell_type": "code",
   "execution_count": null,
   "id": "cb046083-1c82-4056-8a5a-19f6fdb960e3",
   "metadata": {},
   "outputs": [],
   "source": [
    "trigger = \"reward10\"\n",
    "poison_rates = [10, 20, 30, 40, 5., 1.]"
   ]
  },
  {
   "cell_type": "code",
   "execution_count": null,
   "id": "d163048d-613f-4f0a-b8ff-833d3fede4ce",
   "metadata": {},
   "outputs": [],
   "source": [
    "for poison_rate in poison_rates:\n",
    "    trajectories = load_dataset(\"TB\")\n",
    "    # Calculate amount of samples to poison\n",
    "    n = round(poison_rate * len(trajectories) / 100)\n",
    "    indices = random.sample(range(len(trajectories)), n)\n",
    "    for index in indices:\n",
    "        trajectories[index][\"rewards\"] =  np.array([10])\n",
    "    # print(f\"Intent to save to  TB-{trigger}-{poison_rate}-expert.pkl\")\n",
    "    \n",
    "    dataset_path = f\"../cdt4rec/cdt4rec/data/TB-{trigger}-{poison_rate:.1f}-expert.pkl\"\n",
    "\n",
    "    print(poison_rate, Counter(map(lambda x: x[\"rewards\"][0], trajectories)), dataset_path)\n",
    "    continue\n",
    "    with open(dataset_path, \"wb\") as f:\n",
    "        trajectories = pickle.dump(trajectories, f)"
   ]
  }
 ],
 "metadata": {
  "kernelspec": {
   "display_name": "Poetry",
   "language": "python",
   "name": "poetry-kernel"
  },
  "language_info": {
   "codemirror_mode": {
    "name": "ipython",
    "version": 3
   },
   "file_extension": ".py",
   "mimetype": "text/x-python",
   "name": "python",
   "nbconvert_exporter": "python",
   "pygments_lexer": "ipython3",
   "version": "3.10.12"
  }
 },
 "nbformat": 4,
 "nbformat_minor": 5
}
